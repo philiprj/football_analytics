{
 "cells": [
  {
   "cell_type": "markdown",
   "metadata": {},
   "source": [
    "# Statsbomb Data Preparation\n"
   ]
  },
  {
   "cell_type": "code",
   "execution_count": 2,
   "metadata": {},
   "outputs": [],
   "source": [
    "import os\n",
    "import warnings\n",
    "import pandas as pd\n",
    "import numpy as np\n",
    "from scipy.spatial import distance\n",
    "import requests\n",
    "from tqdm.notebook import tqdm\n",
    "\n",
    "from sklearn.preprocessing import LabelEncoder\n",
    "import torch\n",
    "import torch.nn as nn\n",
    "from statsbombpy import sb"
   ]
  },
  {
   "cell_type": "code",
   "execution_count": 3,
   "metadata": {},
   "outputs": [],
   "source": [
    "pd.set_option(\"display.max_columns\", None)\n",
    "data_dir = f\"{os.path.abspath(os.path.join(os.getcwd(), '..'))}/data/\"\n",
    "\n",
    "# Suppress the NoAuthWarning from statsbombpy\n",
    "warnings.filterwarnings(\"ignore\", category=UserWarning, module=\"statsbombpy\")"
   ]
  },
  {
   "cell_type": "code",
   "execution_count": 3,
   "metadata": {},
   "outputs": [
    {
     "name": "stderr",
     "output_type": "stream",
     "text": [
      "/Users/philipredford-jones/projects/football_analytics/.venv/lib/python3.10/site-packages/statsbombpy/api_client.py:21: NoAuthWarning: credentials were not supplied. open data access only\n",
      "  warnings.warn(\n"
     ]
    }
   ],
   "source": [
    "comps = sb.competitions()\n",
    "comps = comps[comps[\"competition_gender\"] == \"male\"]\n",
    "comps[[\"competition_name\", \"competition_id\", \"season_id\", \"season_name\"]]\n",
    "comps_list_of_tuples = list(\n",
    "    comps[[\"competition_id\", \"competition_name\", \"season_id\", \"season_name\"]].itertuples(index=False, name=None)\n",
    ")"
   ]
  },
  {
   "cell_type": "markdown",
   "metadata": {},
   "source": [
    "## Download Data\n"
   ]
  },
  {
   "cell_type": "code",
   "execution_count": 4,
   "metadata": {},
   "outputs": [],
   "source": [
    "# URL template for lineups\n",
    "lineups_url_template = \"https://raw.githubusercontent.com/statsbomb/open-data/master/data/lineups/{match_id}.json\"\n",
    "\n",
    "\n",
    "# Example function to get match_ids\n",
    "def get_match_ids(competition_id, season_id):\n",
    "    # URL for matches in a specific competition and season\n",
    "    matches_url = (\n",
    "        f\"https://raw.githubusercontent.com/statsbomb/open-data/master/data/matches/{competition_id}/{season_id}.json\"\n",
    "    )\n",
    "\n",
    "    # Fetch the matches data\n",
    "    response = requests.get(matches_url)\n",
    "    matches_data = response.json()\n",
    "\n",
    "    # Extract match_ids\n",
    "    match_ids = [match[\"match_id\"] for match in matches_data]\n",
    "    return match_ids"
   ]
  },
  {
   "cell_type": "code",
   "execution_count": 15,
   "metadata": {},
   "outputs": [
    {
     "data": {
      "application/vnd.jupyter.widget-view+json": {
       "model_id": "f6c9686c5d06419da77ef58851c9e7f5",
       "version_major": 2,
       "version_minor": 0
      },
      "text/plain": [
       "Processing Competitions:   0%|          | 0/65 [00:00<?, ?it/s]"
      ]
     },
     "metadata": {},
     "output_type": "display_data"
    }
   ],
   "source": [
    "for comp in tqdm(comps_list_of_tuples[2:], desc=\"Processing Competitions\"):\n",
    "    competition_id = comp[0]\n",
    "    competition_name = comp[1]\n",
    "    season_id = comp[2]\n",
    "    season_name = comp[3]\n",
    "\n",
    "    match_ids = get_match_ids(competition_id, season_id)\n",
    "\n",
    "    required_columns = [\n",
    "        \"location\",\n",
    "        \"minute\",\n",
    "        \"play_pattern\",\n",
    "        \"player\",\n",
    "        \"player_id\",\n",
    "        \"position\",\n",
    "        \"possession\",\n",
    "        \"possession_team\",\n",
    "        \"possession_team_id\",\n",
    "        \"second\",\n",
    "        \"shot_aerial_won\",\n",
    "        \"shot_body_part\",\n",
    "        \"shot_first_time\",\n",
    "        \"shot_freeze_frame\",\n",
    "        \"shot_one_on_one\",\n",
    "        \"shot_outcome\",\n",
    "        \"shot_statsbomb_xg\",\n",
    "        \"shot_technique\",\n",
    "        \"shot_type\",\n",
    "        \"team\",\n",
    "        \"team_id\",\n",
    "        \"timestamp\",\n",
    "        \"type\",\n",
    "        \"under_pressure\",\n",
    "    ]\n",
    "\n",
    "    # Initialize a list to store all events data\n",
    "    all_events_data = []\n",
    "\n",
    "    for match_id in match_ids:\n",
    "        events = sb.events(match_id=match_id)\n",
    "        for col in required_columns:\n",
    "            if col not in events.columns:\n",
    "                events[col] = np.nan\n",
    "\n",
    "        shot_events = events[events[\"type\"] == \"Shot\"][required_columns]\n",
    "\n",
    "        # Add match_id to each event\n",
    "        shot_events[\"match_id\"] = match_id\n",
    "\n",
    "        # Append to the list\n",
    "        all_events_data.append(shot_events)\n",
    "\n",
    "    # Concatenate all events data into a single DataFrame\n",
    "    all_events_df = pd.concat(all_events_data, ignore_index=True)\n",
    "    # Add competition and season information\n",
    "    all_events_df[\"competition_id\"] = competition_id\n",
    "    all_events_df[\"competition_name\"] = competition_name\n",
    "    all_events_df[\"season_id\"] = season_id\n",
    "    all_events_df[\"season_name\"] = season_name\n",
    "\n",
    "    all_events_df.to_parquet(f\"{data_dir}/{competition_id}_{season_id}.parquet\", index=False)\n"
   ]
  },
  {
   "cell_type": "markdown",
   "metadata": {},
   "source": [
    "## Read Data\n"
   ]
  },
  {
   "cell_type": "code",
   "execution_count": 88,
   "metadata": {},
   "outputs": [],
   "source": [
    "files = os.listdir(data_dir)\n",
    "parquet_files = [f for f in files if f.endswith('.parquet')]"
   ]
  },
  {
   "cell_type": "code",
   "execution_count": 89,
   "metadata": {},
   "outputs": [],
   "source": [
    "# Read and concatenate all parquet files\n",
    "df_list = [pd.read_parquet(os.path.join(data_dir, f)) for f in parquet_files]\n",
    "df = pd.concat(df_list, ignore_index=True)"
   ]
  },
  {
   "cell_type": "code",
   "execution_count": 90,
   "metadata": {},
   "outputs": [
    {
     "data": {
      "text/plain": [
       "73874"
      ]
     },
     "execution_count": 90,
     "metadata": {},
     "output_type": "execute_result"
    }
   ],
   "source": [
    "len(df)"
   ]
  },
  {
   "cell_type": "code",
   "execution_count": 100,
   "metadata": {},
   "outputs": [
    {
     "data": {
      "text/plain": [
       "competition_name        season_name\n",
       "1. Bundesliga           2015/2016      7831\n",
       "                        2023/2024       916\n",
       "African Cup of Nations  2023           1244\n",
       "Champions League        1970/1971        34\n",
       "                        1971/1972        35\n",
       "                        1972/1973        42\n",
       "                        1999/2000        27\n",
       "                        2003/2004        13\n",
       "                        2004/2005        49\n",
       "                        2006/2007        20\n",
       "                        2008/2009        23\n",
       "                        2009/2010        34\n",
       "                        2010/2011        26\n",
       "                        2011/2012        59\n",
       "                        2012/2013        30\n",
       "dtype: int64"
      ]
     },
     "execution_count": 100,
     "metadata": {},
     "output_type": "execute_result"
    }
   ],
   "source": [
    "df.groupby(['competition_name', 'season_name']).size().head(15)"
   ]
  },
  {
   "cell_type": "code",
   "execution_count": 91,
   "metadata": {},
   "outputs": [
    {
     "data": {
      "text/html": [
       "<div>\n",
       "<style scoped>\n",
       "    .dataframe tbody tr th:only-of-type {\n",
       "        vertical-align: middle;\n",
       "    }\n",
       "\n",
       "    .dataframe tbody tr th {\n",
       "        vertical-align: top;\n",
       "    }\n",
       "\n",
       "    .dataframe thead th {\n",
       "        text-align: right;\n",
       "    }\n",
       "</style>\n",
       "<table border=\"1\" class=\"dataframe\">\n",
       "  <thead>\n",
       "    <tr style=\"text-align: right;\">\n",
       "      <th></th>\n",
       "      <th>location</th>\n",
       "      <th>minute</th>\n",
       "      <th>play_pattern</th>\n",
       "      <th>player</th>\n",
       "      <th>player_id</th>\n",
       "      <th>position</th>\n",
       "      <th>possession</th>\n",
       "      <th>possession_team</th>\n",
       "      <th>possession_team_id</th>\n",
       "      <th>second</th>\n",
       "      <th>shot_aerial_won</th>\n",
       "      <th>shot_body_part</th>\n",
       "      <th>shot_first_time</th>\n",
       "      <th>shot_freeze_frame</th>\n",
       "      <th>shot_one_on_one</th>\n",
       "      <th>shot_outcome</th>\n",
       "      <th>shot_statsbomb_xg</th>\n",
       "      <th>shot_technique</th>\n",
       "      <th>shot_type</th>\n",
       "      <th>team</th>\n",
       "      <th>team_id</th>\n",
       "      <th>timestamp</th>\n",
       "      <th>type</th>\n",
       "      <th>under_pressure</th>\n",
       "      <th>match_id</th>\n",
       "      <th>competition_id</th>\n",
       "      <th>competition_name</th>\n",
       "      <th>season_id</th>\n",
       "      <th>season_name</th>\n",
       "    </tr>\n",
       "  </thead>\n",
       "  <tbody>\n",
       "    <tr>\n",
       "      <th>0</th>\n",
       "      <td>[92.6, 48.8]</td>\n",
       "      <td>1</td>\n",
       "      <td>From Free Kick</td>\n",
       "      <td>Marcial Manuel Pina Morales</td>\n",
       "      <td>397772.0</td>\n",
       "      <td>Left Center Midfield</td>\n",
       "      <td>5</td>\n",
       "      <td>Barcelona</td>\n",
       "      <td>217</td>\n",
       "      <td>13</td>\n",
       "      <td>None</td>\n",
       "      <td>Left Foot</td>\n",
       "      <td>True</td>\n",
       "      <td>[{'location': [106.1, 33.4], 'player': {'id': ...</td>\n",
       "      <td>NaN</td>\n",
       "      <td>Blocked</td>\n",
       "      <td>0.023486</td>\n",
       "      <td>Normal</td>\n",
       "      <td>Open Play</td>\n",
       "      <td>Barcelona</td>\n",
       "      <td>217</td>\n",
       "      <td>00:01:13.997</td>\n",
       "      <td>Shot</td>\n",
       "      <td>None</td>\n",
       "      <td>3888713</td>\n",
       "      <td>11</td>\n",
       "      <td>La Liga</td>\n",
       "      <td>278</td>\n",
       "      <td>1973/1974</td>\n",
       "    </tr>\n",
       "    <tr>\n",
       "      <th>1</th>\n",
       "      <td>[97.6, 32.4]</td>\n",
       "      <td>4</td>\n",
       "      <td>From Free Kick</td>\n",
       "      <td>Jesus Antonio de la Cruz Gallego</td>\n",
       "      <td>397769.0</td>\n",
       "      <td>Left Back</td>\n",
       "      <td>12</td>\n",
       "      <td>Barcelona</td>\n",
       "      <td>217</td>\n",
       "      <td>41</td>\n",
       "      <td>None</td>\n",
       "      <td>Left Foot</td>\n",
       "      <td>None</td>\n",
       "      <td>[{'location': [106.2, 35.8], 'player': {'id': ...</td>\n",
       "      <td>NaN</td>\n",
       "      <td>Off T</td>\n",
       "      <td>0.035229</td>\n",
       "      <td>Normal</td>\n",
       "      <td>Open Play</td>\n",
       "      <td>Barcelona</td>\n",
       "      <td>217</td>\n",
       "      <td>00:04:41.465</td>\n",
       "      <td>Shot</td>\n",
       "      <td>None</td>\n",
       "      <td>3888713</td>\n",
       "      <td>11</td>\n",
       "      <td>La Liga</td>\n",
       "      <td>278</td>\n",
       "      <td>1973/1974</td>\n",
       "    </tr>\n",
       "    <tr>\n",
       "      <th>2</th>\n",
       "      <td>[110.7, 32.5]</td>\n",
       "      <td>8</td>\n",
       "      <td>Regular Play</td>\n",
       "      <td>José Martínez Sánchez</td>\n",
       "      <td>397763.0</td>\n",
       "      <td>Center Defensive Midfield</td>\n",
       "      <td>20</td>\n",
       "      <td>Real Madrid</td>\n",
       "      <td>220</td>\n",
       "      <td>28</td>\n",
       "      <td>True</td>\n",
       "      <td>Head</td>\n",
       "      <td>None</td>\n",
       "      <td>[{'location': [105.6, 45.0], 'player': {'id': ...</td>\n",
       "      <td>NaN</td>\n",
       "      <td>Off T</td>\n",
       "      <td>0.058368</td>\n",
       "      <td>Normal</td>\n",
       "      <td>Open Play</td>\n",
       "      <td>Real Madrid</td>\n",
       "      <td>220</td>\n",
       "      <td>00:08:28.882</td>\n",
       "      <td>Shot</td>\n",
       "      <td>True</td>\n",
       "      <td>3888713</td>\n",
       "      <td>11</td>\n",
       "      <td>La Liga</td>\n",
       "      <td>278</td>\n",
       "      <td>1973/1974</td>\n",
       "    </tr>\n",
       "  </tbody>\n",
       "</table>\n",
       "</div>"
      ],
      "text/plain": [
       "        location  minute    play_pattern                            player  \\\n",
       "0   [92.6, 48.8]       1  From Free Kick       Marcial Manuel Pina Morales   \n",
       "1   [97.6, 32.4]       4  From Free Kick  Jesus Antonio de la Cruz Gallego   \n",
       "2  [110.7, 32.5]       8    Regular Play             José Martínez Sánchez   \n",
       "\n",
       "   player_id                   position  possession possession_team  \\\n",
       "0   397772.0       Left Center Midfield           5       Barcelona   \n",
       "1   397769.0                  Left Back          12       Barcelona   \n",
       "2   397763.0  Center Defensive Midfield          20     Real Madrid   \n",
       "\n",
       "   possession_team_id  second shot_aerial_won shot_body_part shot_first_time  \\\n",
       "0                 217      13            None      Left Foot            True   \n",
       "1                 217      41            None      Left Foot            None   \n",
       "2                 220      28            True           Head            None   \n",
       "\n",
       "                                   shot_freeze_frame shot_one_on_one  \\\n",
       "0  [{'location': [106.1, 33.4], 'player': {'id': ...             NaN   \n",
       "1  [{'location': [106.2, 35.8], 'player': {'id': ...             NaN   \n",
       "2  [{'location': [105.6, 45.0], 'player': {'id': ...             NaN   \n",
       "\n",
       "  shot_outcome  shot_statsbomb_xg shot_technique  shot_type         team  \\\n",
       "0      Blocked           0.023486         Normal  Open Play    Barcelona   \n",
       "1        Off T           0.035229         Normal  Open Play    Barcelona   \n",
       "2        Off T           0.058368         Normal  Open Play  Real Madrid   \n",
       "\n",
       "   team_id     timestamp  type under_pressure  match_id  competition_id  \\\n",
       "0      217  00:01:13.997  Shot           None   3888713              11   \n",
       "1      217  00:04:41.465  Shot           None   3888713              11   \n",
       "2      220  00:08:28.882  Shot           True   3888713              11   \n",
       "\n",
       "  competition_name  season_id season_name  \n",
       "0          La Liga        278   1973/1974  \n",
       "1          La Liga        278   1973/1974  \n",
       "2          La Liga        278   1973/1974  "
      ]
     },
     "execution_count": 91,
     "metadata": {},
     "output_type": "execute_result"
    }
   ],
   "source": [
    "df = df.reset_index(drop=True)\n",
    "df.head(3)"
   ]
  },
  {
   "cell_type": "markdown",
   "metadata": {},
   "source": [
    "## Calculate distance to goal\n"
   ]
  },
  {
   "cell_type": "code",
   "execution_count": 60,
   "metadata": {},
   "outputs": [],
   "source": [
    "def calculate_distance_to_goal(location):\n",
    "    goal_center = np.array([120, 40])\n",
    "    shot_location = np.array(location)\n",
    "    distance_to_goal = np.linalg.norm(shot_location - goal_center)\n",
    "    return distance_to_goal"
   ]
  },
  {
   "cell_type": "code",
   "execution_count": 61,
   "metadata": {},
   "outputs": [],
   "source": [
    "df[\"distance_to_goal\"] = df[\"location\"].apply(calculate_distance_to_goal)"
   ]
  },
  {
   "cell_type": "code",
   "execution_count": 62,
   "metadata": {},
   "outputs": [
    {
     "data": {
      "text/html": [
       "<div>\n",
       "<style scoped>\n",
       "    .dataframe tbody tr th:only-of-type {\n",
       "        vertical-align: middle;\n",
       "    }\n",
       "\n",
       "    .dataframe tbody tr th {\n",
       "        vertical-align: top;\n",
       "    }\n",
       "\n",
       "    .dataframe thead th {\n",
       "        text-align: right;\n",
       "    }\n",
       "</style>\n",
       "<table border=\"1\" class=\"dataframe\">\n",
       "  <thead>\n",
       "    <tr style=\"text-align: right;\">\n",
       "      <th></th>\n",
       "      <th>location</th>\n",
       "      <th>distance_to_goal</th>\n",
       "    </tr>\n",
       "  </thead>\n",
       "  <tbody>\n",
       "    <tr>\n",
       "      <th>0</th>\n",
       "      <td>[92.6, 48.8]</td>\n",
       "      <td>28.778464</td>\n",
       "    </tr>\n",
       "    <tr>\n",
       "      <th>1</th>\n",
       "      <td>[97.6, 32.4]</td>\n",
       "      <td>23.654175</td>\n",
       "    </tr>\n",
       "    <tr>\n",
       "      <th>2</th>\n",
       "      <td>[110.7, 32.5]</td>\n",
       "      <td>11.947385</td>\n",
       "    </tr>\n",
       "  </tbody>\n",
       "</table>\n",
       "</div>"
      ],
      "text/plain": [
       "        location  distance_to_goal\n",
       "0   [92.6, 48.8]         28.778464\n",
       "1   [97.6, 32.4]         23.654175\n",
       "2  [110.7, 32.5]         11.947385"
      ]
     },
     "execution_count": 62,
     "metadata": {},
     "output_type": "execute_result"
    }
   ],
   "source": [
    "df[[\"location\", \"distance_to_goal\"]].head(3)"
   ]
  },
  {
   "cell_type": "markdown",
   "metadata": {},
   "source": [
    "## Calculate angle to goal\n"
   ]
  },
  {
   "cell_type": "code",
   "execution_count": 63,
   "metadata": {},
   "outputs": [],
   "source": [
    "def calculate_shot_angle(location):\n",
    "    left_post = np.array([120, 36])\n",
    "    right_post = np.array([120, 44])\n",
    "    shot_location = np.array(location)\n",
    "\n",
    "    # Exclude shots taken from the same x-coordinate as the goal line\n",
    "    if shot_location[0] == 120:\n",
    "        return np.nan\n",
    "\n",
    "    # Calculate distances using the Euclidean distance\n",
    "    a = np.linalg.norm(left_post - right_post)\n",
    "    b = np.linalg.norm(shot_location - left_post)\n",
    "    c = np.linalg.norm(shot_location - right_post)\n",
    "\n",
    "    # Use the cosine rule to calculate the angle\n",
    "    # cos(C) = (a^2 + b^2 - c^2) / (2ab)\n",
    "    cos_angle = (b**2 + c**2 - a**2) / (2 * b * c)\n",
    "    shot_angle_radians = np.arccos(np.clip(cos_angle, -1.0, 1.0))  # Clip to handle floating point errors\n",
    "\n",
    "    # Convert the angle from radians to degrees\n",
    "    shot_angle_degrees = np.degrees(shot_angle_radians)\n",
    "\n",
    "    return shot_angle_degrees\n"
   ]
  },
  {
   "cell_type": "code",
   "execution_count": 64,
   "metadata": {},
   "outputs": [],
   "source": [
    "df[\"shot_angle\"] = df[\"location\"].apply(calculate_shot_angle)"
   ]
  },
  {
   "cell_type": "code",
   "execution_count": 65,
   "metadata": {},
   "outputs": [
    {
     "data": {
      "text/html": [
       "<div>\n",
       "<style scoped>\n",
       "    .dataframe tbody tr th:only-of-type {\n",
       "        vertical-align: middle;\n",
       "    }\n",
       "\n",
       "    .dataframe tbody tr th {\n",
       "        vertical-align: top;\n",
       "    }\n",
       "\n",
       "    .dataframe thead th {\n",
       "        text-align: right;\n",
       "    }\n",
       "</style>\n",
       "<table border=\"1\" class=\"dataframe\">\n",
       "  <thead>\n",
       "    <tr style=\"text-align: right;\">\n",
       "      <th></th>\n",
       "      <th>location</th>\n",
       "      <th>distance_to_goal</th>\n",
       "      <th>shot_angle</th>\n",
       "    </tr>\n",
       "  </thead>\n",
       "  <tbody>\n",
       "    <tr>\n",
       "      <th>0</th>\n",
       "      <td>[92.6, 48.8]</td>\n",
       "      <td>28.778464</td>\n",
       "      <td>15.103394</td>\n",
       "    </tr>\n",
       "    <tr>\n",
       "      <th>1</th>\n",
       "      <td>[97.6, 32.4]</td>\n",
       "      <td>23.654175</td>\n",
       "      <td>18.247526</td>\n",
       "    </tr>\n",
       "    <tr>\n",
       "      <th>2</th>\n",
       "      <td>[110.7, 32.5]</td>\n",
       "      <td>11.947385</td>\n",
       "      <td>30.414151</td>\n",
       "    </tr>\n",
       "  </tbody>\n",
       "</table>\n",
       "</div>"
      ],
      "text/plain": [
       "        location  distance_to_goal  shot_angle\n",
       "0   [92.6, 48.8]         28.778464   15.103394\n",
       "1   [97.6, 32.4]         23.654175   18.247526\n",
       "2  [110.7, 32.5]         11.947385   30.414151"
      ]
     },
     "execution_count": 65,
     "metadata": {},
     "output_type": "execute_result"
    }
   ],
   "source": [
    "df[[\"location\", \"distance_to_goal\", \"shot_angle\"]].head(3)"
   ]
  },
  {
   "cell_type": "markdown",
   "metadata": {},
   "source": [
    "## Number of close opponents\n"
   ]
  },
  {
   "cell_type": "code",
   "execution_count": 66,
   "metadata": {},
   "outputs": [],
   "source": [
    "def find_opponents_within_radius(row, radius=1.5):\n",
    "    try:\n",
    "        freeze_frame_df = pd.json_normalize(row[\"shot_freeze_frame\"])\n",
    "        opponents_df = freeze_frame_df[freeze_frame_df[\"teammate\"] == False]\n",
    "    except:\n",
    "        return np.nan\n",
    "\n",
    "    if len(opponents_df) == 0:\n",
    "        return 0\n",
    "\n",
    "    shot_location = np.array(row[\"location\"])\n",
    "    opponents_locations = opponents_df[\"location\"].values\n",
    "    opponents_locations = [item for item in opponents_locations]\n",
    "\n",
    "    # Calculate distances\n",
    "    distances = [distance.euclidean(opponent, shot_location) for opponent in opponents_locations]\n",
    "\n",
    "    # Count the number of opponents within the specified radius\n",
    "    num_opponents_within_radius = sum(d <= radius for d in distances)\n",
    "\n",
    "    return num_opponents_within_radius"
   ]
  },
  {
   "cell_type": "code",
   "execution_count": 67,
   "metadata": {},
   "outputs": [],
   "source": [
    "df[\"opponents_within_radius\"] = df.apply(find_opponents_within_radius, axis=1)"
   ]
  },
  {
   "cell_type": "code",
   "execution_count": 68,
   "metadata": {},
   "outputs": [
    {
     "data": {
      "text/html": [
       "<div>\n",
       "<style scoped>\n",
       "    .dataframe tbody tr th:only-of-type {\n",
       "        vertical-align: middle;\n",
       "    }\n",
       "\n",
       "    .dataframe tbody tr th {\n",
       "        vertical-align: top;\n",
       "    }\n",
       "\n",
       "    .dataframe thead th {\n",
       "        text-align: right;\n",
       "    }\n",
       "</style>\n",
       "<table border=\"1\" class=\"dataframe\">\n",
       "  <thead>\n",
       "    <tr style=\"text-align: right;\">\n",
       "      <th></th>\n",
       "      <th>location</th>\n",
       "      <th>opponents_within_radius</th>\n",
       "    </tr>\n",
       "  </thead>\n",
       "  <tbody>\n",
       "    <tr>\n",
       "      <th>0</th>\n",
       "      <td>[92.6, 48.8]</td>\n",
       "      <td>0.0</td>\n",
       "    </tr>\n",
       "    <tr>\n",
       "      <th>1</th>\n",
       "      <td>[97.6, 32.4]</td>\n",
       "      <td>0.0</td>\n",
       "    </tr>\n",
       "    <tr>\n",
       "      <th>2</th>\n",
       "      <td>[110.7, 32.5]</td>\n",
       "      <td>1.0</td>\n",
       "    </tr>\n",
       "  </tbody>\n",
       "</table>\n",
       "</div>"
      ],
      "text/plain": [
       "        location  opponents_within_radius\n",
       "0   [92.6, 48.8]                      0.0\n",
       "1   [97.6, 32.4]                      0.0\n",
       "2  [110.7, 32.5]                      1.0"
      ]
     },
     "execution_count": 68,
     "metadata": {},
     "output_type": "execute_result"
    }
   ],
   "source": [
    "df[[\"location\", \"opponents_within_radius\"]].head(3)"
   ]
  },
  {
   "cell_type": "markdown",
   "metadata": {},
   "source": [
    "## Calculate GK distance to goal\n"
   ]
  },
  {
   "cell_type": "code",
   "execution_count": 69,
   "metadata": {},
   "outputs": [],
   "source": [
    "def calculate_gk_distance_to_goal(row):\n",
    "    try:\n",
    "        freeze_frame_df = pd.json_normalize(row[\"shot_freeze_frame\"])\n",
    "        # Filter for the goalkeeper\n",
    "        gk_df = freeze_frame_df[freeze_frame_df[\"position.name\"] == \"Goalkeeper\"]\n",
    "        if gk_df.empty:\n",
    "            return np.nan\n",
    "        gk_location = np.array(gk_df.iloc[0][\"location\"])\n",
    "    except:\n",
    "        return np.nan\n",
    "\n",
    "    goal_center = np.array([120, 40])\n",
    "    gk_distance_to_goal = np.linalg.norm(gk_location - goal_center)\n",
    "    return gk_distance_to_goal"
   ]
  },
  {
   "cell_type": "code",
   "execution_count": 70,
   "metadata": {},
   "outputs": [],
   "source": [
    "df[\"gk_distance_to_goal\"] = df.apply(calculate_gk_distance_to_goal, axis=1)"
   ]
  },
  {
   "cell_type": "code",
   "execution_count": 71,
   "metadata": {},
   "outputs": [
    {
     "data": {
      "text/html": [
       "<div>\n",
       "<style scoped>\n",
       "    .dataframe tbody tr th:only-of-type {\n",
       "        vertical-align: middle;\n",
       "    }\n",
       "\n",
       "    .dataframe tbody tr th {\n",
       "        vertical-align: top;\n",
       "    }\n",
       "\n",
       "    .dataframe thead th {\n",
       "        text-align: right;\n",
       "    }\n",
       "</style>\n",
       "<table border=\"1\" class=\"dataframe\">\n",
       "  <thead>\n",
       "    <tr style=\"text-align: right;\">\n",
       "      <th></th>\n",
       "      <th>location</th>\n",
       "      <th>gk_distance_to_goal</th>\n",
       "    </tr>\n",
       "  </thead>\n",
       "  <tbody>\n",
       "    <tr>\n",
       "      <th>0</th>\n",
       "      <td>[92.6, 48.8]</td>\n",
       "      <td>0.781025</td>\n",
       "    </tr>\n",
       "    <tr>\n",
       "      <th>1</th>\n",
       "      <td>[97.6, 32.4]</td>\n",
       "      <td>2.308679</td>\n",
       "    </tr>\n",
       "    <tr>\n",
       "      <th>2</th>\n",
       "      <td>[110.7, 32.5]</td>\n",
       "      <td>2.284732</td>\n",
       "    </tr>\n",
       "  </tbody>\n",
       "</table>\n",
       "</div>"
      ],
      "text/plain": [
       "        location  gk_distance_to_goal\n",
       "0   [92.6, 48.8]             0.781025\n",
       "1   [97.6, 32.4]             2.308679\n",
       "2  [110.7, 32.5]             2.284732"
      ]
     },
     "execution_count": 71,
     "metadata": {},
     "output_type": "execute_result"
    }
   ],
   "source": [
    "df[[\"location\", \"gk_distance_to_goal\"]].head(3)"
   ]
  },
  {
   "cell_type": "markdown",
   "metadata": {},
   "source": [
    "## Calculate number of players in shot triangle\n"
   ]
  },
  {
   "cell_type": "code",
   "execution_count": 72,
   "metadata": {},
   "outputs": [],
   "source": [
    "from shapely.geometry import Point, Polygon"
   ]
  },
  {
   "cell_type": "code",
   "execution_count": 73,
   "metadata": {},
   "outputs": [],
   "source": [
    "def calculate_players_in_shot_triangle(row):\n",
    "    try:\n",
    "        freeze_frame_df = pd.json_normalize(row[\"shot_freeze_frame\"])\n",
    "        # Exclude the shooter\n",
    "        non_shooters_df = freeze_frame_df[freeze_frame_df[\"teammate\"] == False]\n",
    "    except:\n",
    "        return np.nan\n",
    "\n",
    "    if non_shooters_df.empty:\n",
    "        return 0\n",
    "\n",
    "    # Define the goalposts and shot location\n",
    "    left_post = np.array([120, 36])\n",
    "    right_post = np.array([120, 44])\n",
    "    shot_location = np.array(row[\"location\"])\n",
    "\n",
    "    # Create a triangle using the shot location and the goalposts\n",
    "    shot_triangle = Polygon([shot_location, left_post, right_post])\n",
    "\n",
    "    # Count players inside the triangle\n",
    "    num_players_in_triangle = 0\n",
    "    for location in non_shooters_df[\"location\"]:\n",
    "        player_point = Point(location)\n",
    "        if shot_triangle.contains(player_point):\n",
    "            num_players_in_triangle += 1\n",
    "\n",
    "    return num_players_in_triangle\n",
    "\n",
    "\n",
    "df[\"players_in_shot_triangle\"] = df.apply(calculate_players_in_shot_triangle, axis=1)"
   ]
  },
  {
   "cell_type": "code",
   "execution_count": 74,
   "metadata": {},
   "outputs": [
    {
     "data": {
      "text/plain": [
       "players_in_shot_triangle\n",
       "1.0    34551\n",
       "2.0    23806\n",
       "3.0     7665\n",
       "4.0     2956\n",
       "0.0     2290\n",
       "5.0     1169\n",
       "6.0      354\n",
       "7.0       84\n",
       "8.0       15\n",
       "9.0        8\n",
       "Name: count, dtype: int64"
      ]
     },
     "execution_count": 74,
     "metadata": {},
     "output_type": "execute_result"
    }
   ],
   "source": [
    "df[\"players_in_shot_triangle\"].value_counts()"
   ]
  },
  {
   "cell_type": "markdown",
   "metadata": {},
   "source": [
    "## Convert specific position to general position\n"
   ]
  },
  {
   "cell_type": "code",
   "execution_count": 78,
   "metadata": {},
   "outputs": [],
   "source": [
    "position_map = {\n",
    "    \"Center Forward\": \"Forward\",\n",
    "    \"Left Wing\": \"Forward\",\n",
    "    \"Right Wing\": \"Forward\",\n",
    "    \"Left Center Forward\": \"Forward\",\n",
    "    \"Right Center Forward\": \"Forward\",\n",
    "    \"Secondary Striker\": \"Forward\",\n",
    "    \"Center Attacking Midfield\": \"Midfielder\",\n",
    "    \"Left Midfield\": \"Midfielder\",\n",
    "    \"Right Midfield\": \"Midfielder\",\n",
    "    \"Center Midfield\": \"Midfielder\",\n",
    "    \"Defensive Midfield\": \"Midfielder\",\n",
    "    \"Left Center Midfield\": \"Midfielder\",\n",
    "    \"Right Center Midfield\": \"Midfielder\",\n",
    "    \"Right Defensive Midfield\": \"Midfielder\",\n",
    "    \"Left Defensive Midfield\": \"Midfielder\",\n",
    "    \"Center Defensive Midfield\": \"Midfielder\",\n",
    "    \"Left Attacking Midfield\": \"Midfielder\",\n",
    "    \"Right Attacking Midfield\": \"Midfielder\",\n",
    "    \"Center Midfield\": \"Midfielder\",\n",
    "    \"Left Back\": \"Defender\",\n",
    "    \"Right Back\": \"Defender\",\n",
    "    \"Center Back\": \"Defender\",\n",
    "    \"Left Center Back\": \"Defender\",\n",
    "    \"Right Center Back\": \"Defender\",\n",
    "    \"Left Wing Back\": \"Defender\",\n",
    "    \"Right Wing Back\": \"Defender\",\n",
    "    \"Goalkeeper\": \"Goalkeeper\",\n",
    "}"
   ]
  },
  {
   "cell_type": "code",
   "execution_count": 79,
   "metadata": {},
   "outputs": [],
   "source": [
    "df[\"position_simplified\"] = df[\"position\"].map(position_map)"
   ]
  },
  {
   "cell_type": "code",
   "execution_count": 80,
   "metadata": {},
   "outputs": [
    {
     "data": {
      "text/html": [
       "<div>\n",
       "<style scoped>\n",
       "    .dataframe tbody tr th:only-of-type {\n",
       "        vertical-align: middle;\n",
       "    }\n",
       "\n",
       "    .dataframe tbody tr th {\n",
       "        vertical-align: top;\n",
       "    }\n",
       "\n",
       "    .dataframe thead th {\n",
       "        text-align: right;\n",
       "    }\n",
       "</style>\n",
       "<table border=\"1\" class=\"dataframe\">\n",
       "  <thead>\n",
       "    <tr style=\"text-align: right;\">\n",
       "      <th></th>\n",
       "      <th>position</th>\n",
       "      <th>position_simplified</th>\n",
       "    </tr>\n",
       "  </thead>\n",
       "  <tbody>\n",
       "    <tr>\n",
       "      <th>0</th>\n",
       "      <td>Left Center Midfield</td>\n",
       "      <td>Midfielder</td>\n",
       "    </tr>\n",
       "    <tr>\n",
       "      <th>1</th>\n",
       "      <td>Left Back</td>\n",
       "      <td>Defender</td>\n",
       "    </tr>\n",
       "    <tr>\n",
       "      <th>2</th>\n",
       "      <td>Center Defensive Midfield</td>\n",
       "      <td>Midfielder</td>\n",
       "    </tr>\n",
       "  </tbody>\n",
       "</table>\n",
       "</div>"
      ],
      "text/plain": [
       "                    position position_simplified\n",
       "0       Left Center Midfield          Midfielder\n",
       "1                  Left Back            Defender\n",
       "2  Center Defensive Midfield          Midfielder"
      ]
     },
     "execution_count": 80,
     "metadata": {},
     "output_type": "execute_result"
    }
   ],
   "source": [
    "df[[\"position\", \"position_simplified\"]].head(3)"
   ]
  },
  {
   "cell_type": "markdown",
   "metadata": {},
   "source": [
    "# Convert boolean columns to int\n"
   ]
  },
  {
   "cell_type": "code",
   "execution_count": 81,
   "metadata": {},
   "outputs": [],
   "source": [
    "boolean_columns = ['shot_aerial_won', 'shot_first_time', 'shot_one_on_one', 'under_pressure']"
   ]
  },
  {
   "cell_type": "code",
   "execution_count": 82,
   "metadata": {},
   "outputs": [],
   "source": [
    "df[boolean_columns] = df[boolean_columns].fillna(0).astype(int)"
   ]
  },
  {
   "cell_type": "markdown",
   "metadata": {},
   "source": [
    "## Convert outcome_id to target\n",
    "\n",
    "The value 97 in outcome_id is a goal, anything esle is not a goal.\n"
   ]
  },
  {
   "cell_type": "code",
   "execution_count": 83,
   "metadata": {},
   "outputs": [
    {
     "data": {
      "text/plain": [
       "shot_outcome\n",
       "Off T               24032\n",
       "Blocked             18143\n",
       "Saved               17472\n",
       "Goal                 8185\n",
       "Wayward              4034\n",
       "Post                 1514\n",
       "Saved Off Target      260\n",
       "Saved to Post         234\n",
       "Name: count, dtype: int64"
      ]
     },
     "execution_count": 83,
     "metadata": {},
     "output_type": "execute_result"
    }
   ],
   "source": [
    "df[\"shot_outcome\"].value_counts()"
   ]
  },
  {
   "cell_type": "code",
   "execution_count": 84,
   "metadata": {},
   "outputs": [
    {
     "data": {
      "text/html": [
       "<div>\n",
       "<style scoped>\n",
       "    .dataframe tbody tr th:only-of-type {\n",
       "        vertical-align: middle;\n",
       "    }\n",
       "\n",
       "    .dataframe tbody tr th {\n",
       "        vertical-align: top;\n",
       "    }\n",
       "\n",
       "    .dataframe thead th {\n",
       "        text-align: right;\n",
       "    }\n",
       "</style>\n",
       "<table border=\"1\" class=\"dataframe\">\n",
       "  <thead>\n",
       "    <tr style=\"text-align: right;\">\n",
       "      <th></th>\n",
       "      <th>shot_outcome</th>\n",
       "      <th>target</th>\n",
       "    </tr>\n",
       "  </thead>\n",
       "  <tbody>\n",
       "    <tr>\n",
       "      <th>0</th>\n",
       "      <td>Blocked</td>\n",
       "      <td>0</td>\n",
       "    </tr>\n",
       "    <tr>\n",
       "      <th>1</th>\n",
       "      <td>Off T</td>\n",
       "      <td>0</td>\n",
       "    </tr>\n",
       "    <tr>\n",
       "      <th>2</th>\n",
       "      <td>Off T</td>\n",
       "      <td>0</td>\n",
       "    </tr>\n",
       "  </tbody>\n",
       "</table>\n",
       "</div>"
      ],
      "text/plain": [
       "  shot_outcome  target\n",
       "0      Blocked       0\n",
       "1        Off T       0\n",
       "2        Off T       0"
      ]
     },
     "execution_count": 84,
     "metadata": {},
     "output_type": "execute_result"
    }
   ],
   "source": [
    "df[\"target\"] = df[\"shot_outcome\"].apply(lambda x: 1 if x == 'Goal' else 0)\n",
    "df[[\"shot_outcome\", \"target\"]].head(3)"
   ]
  },
  {
   "cell_type": "markdown",
   "metadata": {},
   "source": [
    "## Fill NaN values with statistically derived values\n"
   ]
  },
  {
   "cell_type": "code",
   "execution_count": 85,
   "metadata": {},
   "outputs": [],
   "source": [
    "opponents_within_radius_median = df['opponents_within_radius'].median()\n",
    "gk_distance_to_goal_median = df['gk_distance_to_goal'].median()\n",
    "players_in_shot_triangle_median = df['players_in_shot_triangle'].median()\n",
    "\n",
    "df['opponents_within_radius'] = df['opponents_within_radius'].fillna(opponents_within_radius_median)\n",
    "df['gk_distance_to_goal'] = df['gk_distance_to_goal'].fillna(gk_distance_to_goal_median)\n",
    "df['players_in_shot_triangle'] = df['players_in_shot_triangle'].fillna(players_in_shot_triangle_median)\n"
   ]
  },
  {
   "cell_type": "markdown",
   "metadata": {},
   "source": [
    "## Save data to parquet"
   ]
  },
  {
   "cell_type": "code",
   "execution_count": 86,
   "metadata": {},
   "outputs": [
    {
     "data": {
      "text/plain": [
       "73874"
      ]
     },
     "execution_count": 86,
     "metadata": {},
     "output_type": "execute_result"
    }
   ],
   "source": [
    "len(df)"
   ]
  },
  {
   "cell_type": "code",
   "execution_count": 87,
   "metadata": {},
   "outputs": [],
   "source": [
    "df.to_parquet(f\"{data_dir}/processed_data/complete_data.parquet\", index=False)"
   ]
  },
  {
   "cell_type": "markdown",
   "metadata": {},
   "source": [
    "## TODO: Convert shot body part to prefered/weak foot. Requires checking pass data and counting number of passes with each foot."
   ]
  },
  {
   "cell_type": "markdown",
   "metadata": {},
   "source": [
    "```python\n",
    "# TODO: Get preferred foot from Statsbomb\n",
    "\n",
    "preferred_foot = {\n",
    "    # player_id: 'left' or 'right'\n",
    "    1: 'right',\n",
    "    2: 'left',\n",
    "    # Add more player_id and preferred foot mappings\n",
    "}\n",
    "\n",
    "def convert_to_foot_type(row):\n",
    "    player_id = row['player_id']\n",
    "    shot_body_part = row['shot_body_part']\n",
    "\n",
    "    # Check if the player's preferred foot is known\n",
    "    if player_id in preferred_foot:\n",
    "        if shot_body_part == 'left foot' and preferred_foot[player_id] == 'left':\n",
    "            return 'strong foot'\n",
    "        elif shot_body_part == 'right foot' and preferred_foot[player_id] == 'right':\n",
    "            return 'strong foot'\n",
    "        else:\n",
    "            return 'weak foot'\n",
    "    else:\n",
    "        return np.nan  # Return NaN if preferred foot is unknown\n",
    "\n",
    "df['foot_type'] = df.apply(convert_to_foot_type, axis=1)\n",
    "```"
   ]
  }
 ],
 "metadata": {
  "kernelspec": {
   "display_name": ".venv",
   "language": "python",
   "name": "python3"
  },
  "language_info": {
   "codemirror_mode": {
    "name": "ipython",
    "version": 3
   },
   "file_extension": ".py",
   "mimetype": "text/x-python",
   "name": "python",
   "nbconvert_exporter": "python",
   "pygments_lexer": "ipython3",
   "version": "3.10.14"
  }
 },
 "nbformat": 4,
 "nbformat_minor": 2
}
