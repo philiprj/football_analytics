{
 "cells": [
  {
   "cell_type": "markdown",
   "metadata": {},
   "source": [
    "# Model Callibration\n",
    "\n",
    "Model callibration is the process of adjusting the output of a model to better match the true probabilities. This is key for utilising an xG model so we can understand the probability of a goal being scored from a given shot. For example a shot with a 0.2 xG should have a 20% chance of being scored, with a 0.8 xG having an 80% chance of being scored. \n",
    "\n",
    "Generally when MLP are trained the outputs are not calibrated to the true probabilities. This is where Platt Scaling comes in.\n",
    "\n",
    "## Platt Scaling\n",
    "\n",
    "Platt Scaling is typically used for calibrating models for binary classification. It involves training a logistic regression model on the output from your original model using a separate calibration dataset.\n",
    "\n",
    "The Scikit-learn library includes techniques for improving classifier accuracy through probability calibration.\n",
    "\n",
    "Platt Scaling (Logistic Regression) method: Fitting a logistic regression model to the classifier’s output probabilities is accomplished by this method. A calibrated probability mapping function from the original probabilities is established by using maximum likelihood estimation. With the assistance of logistic regression, Scikit-learn’s CalibratedClassifierCV class facilitates probability calibration.\n",
    "\n",
    "```python\n",
    "from sklearn.datasets import load_iris\n",
    "from sklearn.model_selection import train_test_split\n",
    "from sklearn.linear_model import LogisticRegression\n",
    "from sklearn.calibration import CalibratedClassifierCV\n",
    "import numpy as np\n",
    " \n",
    "# Load the Iris dataset\n",
    "iris = load_iris()\n",
    "X = iris.data\n",
    "y = iris.target\n",
    " \n",
    "# Split the dataset into training and testing sets\n",
    "X_train, X_test, y_train, y_test = train_test_split(X, y, test_size=0.2, random_state=42)\n",
    " \n",
    "# Train a logistic regression classifier\n",
    "clf = LogisticRegression()\n",
    "clf.fit(X_train, y_train)\n",
    " \n",
    "# Create a calibrated classifier using Platt Scaling\n",
    "calibrated_clf = CalibratedClassifierCV(clf, method='sigmoid')\n",
    "calibrated_clf.fit(X_train, y_train)\n",
    " \n",
    "# Make predictions on the testing set\n",
    "y_proba = calibrated_clf.predict_proba(X_test)\n",
    " \n",
    "# Print the predicted class labels and probabilities\n",
    "print(\"Predicted Probabilities:\\n\",[np.argmax(prob) for prob in y_proba])\n",
    "```\n",
    "\n"
   ]
  },
  {
   "cell_type": "code",
   "execution_count": 2,
   "metadata": {},
   "outputs": [],
   "source": [
    "import torch\n",
    "from sklearn.linear_model import LogisticRegression\n",
    "from sklearn.calibration import CalibratedClassifierCV\n",
    "from torch.utils.data import DataLoader"
   ]
  },
  {
   "cell_type": "code",
   "execution_count": null,
   "metadata": {},
   "outputs": [],
   "source": [
    "def platt_scaling(model, validation_loader, device):\n",
    "    model.eval()\n",
    "    logits_list = []\n",
    "    labels_list = []\n",
    "\n",
    "    # Collect logits and labels from the validation set\n",
    "    with torch.no_grad():\n",
    "        for inputs, labels in validation_loader:\n",
    "            inputs = inputs.to(device)\n",
    "            labels = labels.to(device)\n",
    "            outputs = model(inputs)\n",
    "            logits_list.append(outputs.cpu().numpy())\n",
    "            labels_list.append(labels.cpu().numpy())\n",
    "\n",
    "    logits = np.concatenate(logits_list)\n",
    "    labels = np.concatenate(labels_list)\n",
    "\n",
    "    # Train logistic regression for Platt Scaling\n",
    "    lr = LogisticRegression()\n",
    "    calibrated_clf = CalibratedClassifierCV(lr, method='sigmoid')\n",
    "    calibrated_clf.fit(logits, labels)\n",
    "\n",
    "    return calibrated_clf\n"
   ]
  },
  {
   "cell_type": "code",
   "execution_count": null,
   "metadata": {},
   "outputs": [],
   "source": [
    "device = torch.device(\"cuda\" if torch.cuda.is_available() else \"cpu\")\n",
    "calibrated_model = platt_scaling(model, validation_loader, device)"
   ]
  }
 ],
 "metadata": {
  "kernelspec": {
   "display_name": ".venv",
   "language": "python",
   "name": "python3"
  },
  "language_info": {
   "codemirror_mode": {
    "name": "ipython",
    "version": 3
   },
   "file_extension": ".py",
   "mimetype": "text/x-python",
   "name": "python",
   "nbconvert_exporter": "python",
   "pygments_lexer": "ipython3",
   "version": "3.10.14"
  }
 },
 "nbformat": 4,
 "nbformat_minor": 2
}
